{
  "nbformat": 4,
  "nbformat_minor": 0,
  "metadata": {
    "colab": {
      "provenance": [],
      "authorship_tag": "ABX9TyNS8J1G1QBKQ7Md5bDBp7H1",
      "include_colab_link": true
    },
    "kernelspec": {
      "name": "python3",
      "display_name": "Python 3"
    },
    "language_info": {
      "name": "python"
    }
  },
  "cells": [
    {
      "cell_type": "markdown",
      "metadata": {
        "id": "view-in-github",
        "colab_type": "text"
      },
      "source": [
        "<a href=\"https://colab.research.google.com/github/Shaurypawar/Python-/blob/main/BMI.ipynb\" target=\"_parent\"><img src=\"https://colab.research.google.com/assets/colab-badge.svg\" alt=\"Open In Colab\"/></a>"
      ]
    },
    {
      "cell_type": "code",
      "execution_count": null,
      "metadata": {
        "colab": {
          "base_uri": "https://localhost:8080/"
        },
        "id": "pHpmbHh5pb1Q",
        "outputId": "974c3931-3d4a-4c51-cec6-9219352b9960"
      },
      "outputs": [
        {
          "output_type": "stream",
          "name": "stdout",
          "text": [
            "Writing bmiproject.py\n"
          ]
        }
      ],
      "source": [
        "%%writefile bmiproject.py\n",
        "import streamlit as st\n",
        "import numpy as np\n",
        "import pandas as pd\n",
        "\n",
        "# Set the background image\n",
        "def set_background(image_url):\n",
        "    page_bg = f\"\"\"\n",
        "     <style>\n",
        "    .stApp {{\n",
        "        background: url(\"{image_url}\") no-repeat center fixed;\n",
        "        background-size: 100%; /* Increase percentage to zoom out */\n",
        "        background-position: center;\n",
        "    }}\n",
        "    </style>\n",
        "    \"\"\"\n",
        "    st.markdown(page_bg, unsafe_allow_html=True)\n",
        "\n",
        "    set_background(\"https://img.freepik.com/free-vector/dark-hexagonal-background-with-gradient-color_79603-1410.jpg?t=st=1740977323~exp=1740980923~hmac=dfdf99b227c3ee31783f80e3cda0bd7f4e8b12f85f1297e42d7d249c00d0bd04&w=1060\")\n",
        "\n",
        "#BMI Calculation Function\n",
        "def calculate_bmi(weight, height_m):\n",
        "    return weight / (height_m ** 2)\n",
        "\n",
        "#BMI Classification\n",
        "def classify_bmi(bmi):\n",
        "    if bmi < 18.5:\n",
        "        return \"Underweight\"\n",
        "    elif 18.5 <= bmi < 24.9:\n",
        "        return \"Normal weight\"\n",
        "    elif 25 <= bmi < 29.9:\n",
        "        return \"Overweight\"\n",
        "    else:\n",
        "        return \"Obesity\"\n",
        "\n",
        "#Generating a Personalized Diet Plan\n",
        "def diet_plan(category):\n",
        "    plans = {\n",
        "        \"Underweight\": \"Increase calorie intake with healthy fats and proteins. Eat nuts, avocados, dairy, and lean meats.\",\n",
        "        \"Normal weight\": \"Maintain a balanced diet with whole grains, lean proteins, vegetables, and fruits.\",\n",
        "        \"Overweight\": \"Reduce processed foods, eat more fiber-rich foods, and control portion sizes.\",\n",
        "        \"Obesity\": \"Adopt a high-fiber, low-carb diet with lean proteins. Avoid sugary drinks and increase physical activity.\"\n",
        "    }\n",
        "    return plans.get(category, \"No diet plan available.\")\n",
        "\n",
        "#Generating a Personalized Workout Plan\n",
        "def workout_plan(category):\n",
        "    workouts = {\n",
        "        \"Underweight\": \"Strength training (3-4 days/week), light cardio (2 times/week), focus on compound exercises like squats, deadlifts, and bench press.\",\n",
        "        \"Normal weight\": \"Balanced fitness routine (4-5 days/week) with strength training, cardio, and flexibility exercises.\",\n",
        "        \"Overweight\": \"Cardio-focused routine (5 days/week) with jogging, cycling, swimming, and strength training (2-3 days/week).\",\n",
        "        \"Obesity\": \"Low-impact cardio (5-6 days/week) like walking and swimming, strength training (2 times/week), gradual intensity increase.\"\n",
        "    }\n",
        "    return workouts.get(category, \"No workout plan available.\")\n",
        "\n",
        "#Creating the Streamlit User Interface\n",
        "st.title(\"BMI Calculator with Diet & Workout Plan\")\n",
        "\n",
        "weight = st.number_input(\"Enter your weight (kg)\", min_value=1.0, step=0.1, value=70.0)\n",
        "\n",
        "height_unit = st.selectbox(\"Select height unit\", [\"Metres\", \"Centimetres\", \"Feet\"])\n",
        "\n",
        "#Handling Height Input\n",
        "if height_unit == \"Metres\":\n",
        "    height_m = st.number_input(\"Enter your height (m)\", min_value=0.5, step=0.01, value=1.7)\n",
        "elif height_unit == \"Centimetres\":\n",
        "    height_cm = st.number_input(\"Enter your height (cm)\", min_value=50.0, step=0.1, value=170.0)\n",
        "    height_m = height_cm / 100\n",
        "else:\n",
        "    height_ft = st.number_input(\"Enter your height (feet)\", min_value=1.0, step=0.1, value=5.7)\n",
        "    height_m = height_ft * 0.3048\n",
        "\n",
        "# Calculating & Displaying BMI, Diet, and Workout Plan\n",
        "if st.button(\"Calculate BMI\"):\n",
        "    if weight > 0 and height_m > 0:\n",
        "        bmi = calculate_bmi(weight, height_m)\n",
        "        category = classify_bmi(bmi)\n",
        "        diet = diet_plan(category)\n",
        "        workout = workout_plan(category)\n",
        "        df = pd.DataFrame({\"BMI\": [np.round(bmi, 2)], \"Category\": [category], \"Diet Plan\": [diet], \"Workout Plan\": [workout]})\n",
        "\n",
        "        st.write(f\"Your BMI is: {np.round(bmi, 2)}\")\n",
        "        st.write(f\"Category: {category}\")\n",
        "        st.write(f\"Diet Plan: {diet}\")\n",
        "        st.write(f\"Workout Plan: {workout}\")\n",
        "        st.dataframe(df)\n",
        "    else:\n",
        "        st.error(\"Please enter valid weight and height values.\")\n"
      ]
    },
    {
      "cell_type": "code",
      "source": [],
      "metadata": {
        "id": "juoPBdL4CpYu"
      },
      "execution_count": null,
      "outputs": []
    },
    {
      "cell_type": "code",
      "source": [
        "! pip install streamlit -q"
      ],
      "metadata": {
        "id": "sBrCYdvYpf7O",
        "colab": {
          "base_uri": "https://localhost:8080/"
        },
        "outputId": "f9f60ca5-76b1-4292-c170-a37472b644f4"
      },
      "execution_count": null,
      "outputs": [
        {
          "output_type": "stream",
          "name": "stdout",
          "text": [
            "\u001b[2K     \u001b[90m━━━━━━━━━━━━━━━━━━━━━━━━━━━━━━━━━━━━━━━━\u001b[0m \u001b[32m44.3/44.3 kB\u001b[0m \u001b[31m1.3 MB/s\u001b[0m eta \u001b[36m0:00:00\u001b[0m\n",
            "\u001b[2K   \u001b[90m━━━━━━━━━━━━━━━━━━━━━━━━━━━━━━━━━━━━━━━━\u001b[0m \u001b[32m9.7/9.7 MB\u001b[0m \u001b[31m44.6 MB/s\u001b[0m eta \u001b[36m0:00:00\u001b[0m\n",
            "\u001b[2K   \u001b[90m━━━━━━━━━━━━━━━━━━━━━━━━━━━━━━━━━━━━━━━━\u001b[0m \u001b[32m6.9/6.9 MB\u001b[0m \u001b[31m74.4 MB/s\u001b[0m eta \u001b[36m0:00:00\u001b[0m\n",
            "\u001b[2K   \u001b[90m━━━━━━━━━━━━━━━━━━━━━━━━━━━━━━━━━━━━━━━━\u001b[0m \u001b[32m79.1/79.1 kB\u001b[0m \u001b[31m4.1 MB/s\u001b[0m eta \u001b[36m0:00:00\u001b[0m\n",
            "\u001b[?25h"
          ]
        }
      ]
    },
    {
      "cell_type": "code",
      "source": [
        "!wget -q -O - ipv4.icanhazip.com"
      ],
      "metadata": {
        "colab": {
          "base_uri": "https://localhost:8080/"
        },
        "id": "9xO1mclWpkUP",
        "outputId": "922a863a-f81e-4213-e420-fa1e854f7e57"
      },
      "execution_count": null,
      "outputs": [
        {
          "output_type": "stream",
          "name": "stdout",
          "text": [
            "34.148.76.250\n"
          ]
        }
      ]
    },
    {
      "cell_type": "code",
      "source": [
        "!streamlit run /content/bmiproject.py & npx localtunnel --port 8501"
      ],
      "metadata": {
        "colab": {
          "base_uri": "https://localhost:8080/"
        },
        "id": "rDXo5ft3pm59",
        "outputId": "837803e7-547c-4607-aca0-1f6b3d1988d3"
      },
      "execution_count": null,
      "outputs": [
        {
          "output_type": "stream",
          "name": "stdout",
          "text": [
            "\u001b[1G\u001b[0K⠙\u001b[1G\u001b[0K⠹\n",
            "Collecting usage statistics. To deactivate, set browser.gatherUsageStats to false.\n",
            "\u001b[0m\n",
            "\u001b[1G\u001b[0K⠸\u001b[1G\u001b[0K⠼\u001b[1G\u001b[0K⠴\u001b[1G\u001b[0K⠦\u001b[1G\u001b[0K⠧\u001b[1G\u001b[0K⠇\u001b[1G\u001b[0K⠏\u001b[0m\n",
            "\u001b[34m\u001b[1m  You can now view your Streamlit app in your browser.\u001b[0m\n",
            "\u001b[0m\n",
            "\u001b[34m  Local URL: \u001b[0m\u001b[1mhttp://localhost:8501\u001b[0m\n",
            "\u001b[34m  Network URL: \u001b[0m\u001b[1mhttp://172.28.0.12:8501\u001b[0m\n",
            "\u001b[34m  External URL: \u001b[0m\u001b[1mhttp://34.148.76.250:8501\u001b[0m\n",
            "\u001b[0m\n",
            "\u001b[1G\u001b[0K⠋\u001b[1G\u001b[0K\u001b[1G\u001b[0JNeed to install the following packages:\n",
            "localtunnel@2.0.2\n",
            "Ok to proceed? (y) \u001b[20Gy\n",
            "\n",
            "\u001b[1G\u001b[0K⠙\u001b[1G\u001b[0K⠹\u001b[1G\u001b[0K⠸\u001b[1G\u001b[0K⠼\u001b[1G\u001b[0K⠴\u001b[1G\u001b[0K⠦\u001b[1G\u001b[0K⠧\u001b[1G\u001b[0K⠇\u001b[1G\u001b[0K⠏\u001b[1G\u001b[0K⠋\u001b[1G\u001b[0K⠙\u001b[1G\u001b[0K⠹\u001b[1G\u001b[0K⠸\u001b[1G\u001b[0K⠼\u001b[1G\u001b[0K⠴\u001b[1G\u001b[0K⠦\u001b[1G\u001b[0K⠧\u001b[1G\u001b[0K⠇\u001b[1G\u001b[0K⠏\u001b[1G\u001b[0K⠋\u001b[1G\u001b[0K⠙\u001b[1G\u001b[0K⠹\u001b[1G\u001b[0K⠸\u001b[1G\u001b[0K⠼\u001b[1G\u001b[0K⠴\u001b[1G\u001b[0K⠦\u001b[1G\u001b[0K⠧\u001b[1G\u001b[0K⠇\u001b[1G\u001b[0Kyour url is: https://odd-meals-think.loca.lt\n",
            "\u001b[34m  Stopping...\u001b[0m\n",
            "^C\n"
          ]
        }
      ]
    }
  ]
}